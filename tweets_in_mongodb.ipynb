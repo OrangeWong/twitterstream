{
 "cells": [
  {
   "cell_type": "code",
   "execution_count": 7,
   "metadata": {
    "collapsed": true
   },
   "outputs": [],
   "source": [
    "import pymongo\n",
    "import json\n",
    "import pprint "
   ]
  },
  {
   "cell_type": "markdown",
   "metadata": {},
   "source": [
    "# Set Up a MongoDB for Tweets"
   ]
  },
  {
   "cell_type": "code",
   "execution_count": 42,
   "metadata": {
    "collapsed": true
   },
   "outputs": [],
   "source": [
    "def get_db(db_name):\n",
    "    from pymongo import MongoClient\n",
    "    client = MongoClient('localhost:27017')\n",
    "    db = client[db_name]\n",
    "    return db\n",
    "\n",
    "def insert_many_data(data, db, collection):\n",
    "    # Insert the many data into a collection 'tweets'\n",
    "    db[collection].insert_many(data)\n",
    "\n",
    "def insert_one_data(data, db, collection):\n",
    "    # Insert the many data into a collection 'tweets'\n",
    "    db[collection].insert_one(data)\n",
    "\n",
    "def aggregate(db, collection, pipeline):\n",
    "    return [doc for doc in db[collection].aggregate(pipeline)]"
   ]
  },
  {
   "cell_type": "code",
   "execution_count": 39,
   "metadata": {},
   "outputs": [],
   "source": [
    "# get the database\n",
    "db = get_db('examples')\n",
    "\n",
    "# clean the existed collections\n",
    "db.tweets.delete_many({})\n",
    "\n",
    "with open('output.txt') as f:\n",
    "    # skip the last row since it is not complete tweet\n",
    "    for line in f.readlines()[:-1]:\n",
    "        data = json.loads(line)\n",
    "        insert_one_data(data, db, 'tweets')"
   ]
  },
  {
   "cell_type": "code",
   "execution_count": 41,
   "metadata": {},
   "outputs": [
    {
     "name": "stdout",
     "output_type": "stream",
     "text": [
      "number of tweets: 22462\n"
     ]
    }
   ],
   "source": [
    "# number of tweets \n",
    "num_tweets = db.tweets.count()\n",
    "print('number of tweets:', num_tweets)"
   ]
  },
  {
   "cell_type": "markdown",
   "metadata": {},
   "source": [
    "# Text Analysis\n",
    "## Tweet Sentiment"
   ]
  },
  {
   "cell_type": "code",
   "execution_count": 62,
   "metadata": {},
   "outputs": [],
   "source": [
    "def get_afinn_scores(afinnfile):\n",
    "    '''\n",
    "    Args:\n",
    "        afinnfile (file): A file contains the English word scores, and the file\n",
    "        is tab-delimited.\n",
    "        \n",
    "    Returns:\n",
    "        dict: The dict that contains pairs of English word and the related \n",
    "        score\n",
    "    '''\n",
    "    # initialize an empty dictionary\n",
    "    scores = {}\n",
    "    with open(afinnfile, 'r') as f:\n",
    "        for line in f:\n",
    "            # The file is tab-delimited.\n",
    "            term, score  = line.split(\"\\t\")  \n",
    "            scores[term] = int(score)\n",
    "    return scores\n",
    "\n",
    "def get_sentiment(tweet_text, scores):\n",
    "    '''\n",
    "    Args:\n",
    "        tweet_text (str): A string that contains the text in tweet.\n",
    "        scores (dict): A dict of English word scores.\n",
    "    Returns:\n",
    "        float: The sentiment of the tweet text. \n",
    "    '''\n",
    "    \n",
    "    # Zero if word is not in the scores\n",
    "    sentiment = sum( scores.get(word, 0) for word in tweet_text )\n",
    "    \n",
    "    return sentiment"
   ]
  },
  {
   "cell_type": "code",
   "execution_count": 65,
   "metadata": {},
   "outputs": [],
   "source": [
    "# get the scores from the AFINN file\n",
    "scores = get_afinn_scores('AFINN-111.txt')\n",
    "\n",
    "# process the text in tweets\n",
    "pipeline = [{'$match': {'text': {'$ne': None}}}, # only consider the tweet with text\n",
    "            {'$project': {'text': {'$split': ['$text', ' ']}}}, # split the text and project the list of words\n",
    "            ]\n",
    "results = aggregate(db, 'tweets', pipeline)\n",
    "\n",
    "# get the sentiments\n",
    "sentiments = [get_sentiment(tweet['text'], scores) for tweet in results]"
   ]
  }
 ],
 "metadata": {
  "kernelspec": {
   "display_name": "Python 3",
   "language": "python",
   "name": "python3"
  },
  "language_info": {
   "codemirror_mode": {
    "name": "ipython",
    "version": 3
   },
   "file_extension": ".py",
   "mimetype": "text/x-python",
   "name": "python",
   "nbconvert_exporter": "python",
   "pygments_lexer": "ipython3",
   "version": "3.6.1"
  }
 },
 "nbformat": 4,
 "nbformat_minor": 2
}
